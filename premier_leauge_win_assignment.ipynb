{
 "cells": [
  {
   "cell_type": "code",
   "execution_count": 1,
   "id": "f863fc37",
   "metadata": {},
   "outputs": [],
   "source": [
    "import numpy as np\n",
    "import pandas as pd\n",
    "import matplotlib.pyplot as plt\n",
    "import seaborn as sns"
   ]
  },
  {
   "cell_type": "code",
   "execution_count": 2,
   "id": "cd6423a7",
   "metadata": {},
   "outputs": [],
   "source": [
    "df=pd.read_excel(\"Soccer-Stats-Premier-League-2024-2025_20250526 (1).xlsx\",sheet_name=1)\n"
   ]
  },
  {
   "cell_type": "code",
   "execution_count": 3,
   "id": "61e5e613",
   "metadata": {},
   "outputs": [
    {
     "name": "stdout",
     "output_type": "stream",
     "text": [
      "   Rank              Team  Points  MP  Win  Draw  Loss  GF  GA  GD  ...  \\\n",
      "0     1         Liverpool      84  38   25     9     4  86  41  45  ...   \n",
      "1     2           Arsenal      74  38   20    14     4  69  34  35  ...   \n",
      "2     3   Manchester City      71  38   21     8     9  72  44  28  ...   \n",
      "3     4           Chelsea      69  38   20     9     9  64  43  21  ...   \n",
      "4     5  Newcastle United      66  38   20     6    12  68  47  21  ...   \n",
      "\n",
      "   Home GA  Home Clean Sheets  Away MP  Away Win  Away Draw  Away Loss  \\\n",
      "0       16                  6       19        11          5          3   \n",
      "1       17                  7       19         9          8          2   \n",
      "2       23                  5       19         8          5          6   \n",
      "3       18                  6       19         8          4          7   \n",
      "4       20                  8       19         8          4          7   \n",
      "\n",
      "   Away GF  Away GA  Away Clean Sheets         Update Time  \n",
      "0       44       25                  8 2025-05-26 04:28:39  \n",
      "1       34       17                  6 2025-05-26 04:28:39  \n",
      "2       29       21                  8 2025-05-26 04:28:39  \n",
      "3       29       25                  5 2025-05-26 04:28:39  \n",
      "4       28       27                  5 2025-05-26 04:28:39  \n",
      "\n",
      "[5 rows x 27 columns]\n"
     ]
    }
   ],
   "source": [
    "print(df.head())"
   ]
  },
  {
   "cell_type": "code",
   "execution_count": 4,
   "id": "e189e8ad",
   "metadata": {},
   "outputs": [],
   "source": [
    "df['win_probabilty(%)']=(df['Win']/df['MP']) * 100"
   ]
  },
  {
   "cell_type": "code",
   "execution_count": 5,
   "id": "40c4fac4",
   "metadata": {},
   "outputs": [
    {
     "name": "stdout",
     "output_type": "stream",
     "text": [
      "<class 'pandas.core.frame.DataFrame'>\n",
      "RangeIndex: 20 entries, 0 to 19\n",
      "Data columns (total 28 columns):\n",
      " #   Column             Non-Null Count  Dtype         \n",
      "---  ------             --------------  -----         \n",
      " 0   Rank               20 non-null     int64         \n",
      " 1   Team               20 non-null     object        \n",
      " 2   Points             20 non-null     int64         \n",
      " 3   MP                 20 non-null     int64         \n",
      " 4   Win                20 non-null     int64         \n",
      " 5   Draw               20 non-null     int64         \n",
      " 6   Loss               20 non-null     int64         \n",
      " 7   GF                 20 non-null     int64         \n",
      " 8   GA                 20 non-null     int64         \n",
      " 9   GD                 20 non-null     int64         \n",
      " 10  Clean Sheets       20 non-null     int64         \n",
      " 11  Deductions         20 non-null     int64         \n",
      " 12  Home MP            20 non-null     int64         \n",
      " 13  Home Win           20 non-null     int64         \n",
      " 14  Home Draw          20 non-null     int64         \n",
      " 15  Home Loss          20 non-null     int64         \n",
      " 16  Home GF            20 non-null     int64         \n",
      " 17  Home GA            20 non-null     int64         \n",
      " 18  Home Clean Sheets  20 non-null     int64         \n",
      " 19  Away MP            20 non-null     int64         \n",
      " 20  Away Win           20 non-null     int64         \n",
      " 21  Away Draw          20 non-null     int64         \n",
      " 22  Away Loss          20 non-null     int64         \n",
      " 23  Away GF            20 non-null     int64         \n",
      " 24  Away GA            20 non-null     int64         \n",
      " 25  Away Clean Sheets  20 non-null     int64         \n",
      " 26  Update Time        20 non-null     datetime64[ns]\n",
      " 27  win_probabilty(%)  20 non-null     float64       \n",
      "dtypes: datetime64[ns](1), float64(1), int64(25), object(1)\n",
      "memory usage: 4.5+ KB\n"
     ]
    }
   ],
   "source": [
    "df.info()"
   ]
  },
  {
   "cell_type": "code",
   "execution_count": 6,
   "id": "9a754db6",
   "metadata": {},
   "outputs": [],
   "source": [
    "df.head()\n",
    "df['win_probability(%)']= df['win_probabilty(%)'].round(2)"
   ]
  },
  {
   "cell_type": "code",
   "execution_count": 7,
   "id": "2c250a17",
   "metadata": {},
   "outputs": [
    {
     "name": "stdout",
     "output_type": "stream",
     "text": [
      "                       Team  Win  MP  win_probability(%)\n",
      "0                 Liverpool   25  38               65.79\n",
      "1                   Arsenal   20  38               52.63\n",
      "2           Manchester City   21  38               55.26\n",
      "3                   Chelsea   20  38               52.63\n",
      "4          Newcastle United   20  38               52.63\n",
      "5               Aston Villa   19  38               50.00\n",
      "6         Nottingham Forest   19  38               50.00\n",
      "7    Brighton & Hove Albion   16  38               42.11\n",
      "8           AFC Bournemouth   15  38               39.47\n",
      "9                 Brentford   16  38               42.11\n",
      "10                   Fulham   15  38               39.47\n",
      "11           Crystal Palace   13  38               34.21\n",
      "12                  Everton   11  38               28.95\n",
      "13          West Ham United   11  38               28.95\n",
      "14        Manchester United   11  38               28.95\n",
      "15  Wolverhampton Wanderers   12  38               31.58\n",
      "16        Tottenham Hotspur   11  38               28.95\n",
      "17           Leicester City    6  38               15.79\n",
      "18             Ipswich Town    4  38               10.53\n",
      "19              Southampton    2  38                5.26\n"
     ]
    }
   ],
   "source": [
    "print(df[['Team','Win','MP','win_probability(%)']].head(20))"
   ]
  }
 ],
 "metadata": {
  "kernelspec": {
   "display_name": "base",
   "language": "python",
   "name": "python3"
  },
  "language_info": {
   "codemirror_mode": {
    "name": "ipython",
    "version": 3
   },
   "file_extension": ".py",
   "mimetype": "text/x-python",
   "name": "python",
   "nbconvert_exporter": "python",
   "pygments_lexer": "ipython3",
   "version": "3.12.7"
  }
 },
 "nbformat": 4,
 "nbformat_minor": 5
}
